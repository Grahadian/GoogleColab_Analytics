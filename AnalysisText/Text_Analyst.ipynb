{
  "nbformat": 4,
  "nbformat_minor": 0,
  "metadata": {
    "colab": {
      "provenance": [],
      "authorship_tag": "ABX9TyPq2t3KlDzC4pIVumrQaiWV",
      "include_colab_link": true
    },
    "kernelspec": {
      "name": "python3",
      "display_name": "Python 3"
    },
    "language_info": {
      "name": "python"
    }
  },
  "cells": [
    {
      "cell_type": "markdown",
      "metadata": {
        "id": "view-in-github",
        "colab_type": "text"
      },
      "source": [
        "<a href=\"https://colab.research.google.com/github/Grahadian/GoogleColab_Analytics/blob/main/AnalysisText/Text_Analyst.ipynb\" target=\"_parent\"><img src=\"https://colab.research.google.com/assets/colab-badge.svg\" alt=\"Open In Colab\"/></a>"
      ]
    },
    {
      "cell_type": "code",
      "execution_count": 1,
      "metadata": {
        "id": "5MiCHQDY1eSj"
      },
      "outputs": [],
      "source": [
        "import re"
      ]
    },
    {
      "cell_type": "code",
      "source": [
        "#Seacrh Data Using RegEXP\n",
        "re.match(r'\\b\\w{5}\\b','Andri dan Fatia')"
      ],
      "metadata": {
        "id": "oQpWSNIs15R3",
        "colab": {
          "base_uri": "https://localhost:8080/"
        },
        "outputId": "490f8d69-1934-4bed-9c8d-93d93169edce"
      },
      "execution_count": 2,
      "outputs": [
        {
          "output_type": "execute_result",
          "data": {
            "text/plain": [
              "<re.Match object; span=(0, 5), match='Andri'>"
            ]
          },
          "metadata": {},
          "execution_count": 2
        }
      ]
    },
    {
      "cell_type": "code",
      "source": [
        "#Search Data Using RegEXP\n",
        "re.search(r'\\b\\w{5}\\b','Andri dan Fatia')"
      ],
      "metadata": {
        "id": "IJl7K0CS3hhh",
        "colab": {
          "base_uri": "https://localhost:8080/"
        },
        "outputId": "082c0ec5-36cb-4429-ccf9-b854f1e7a8a8"
      },
      "execution_count": 4,
      "outputs": [
        {
          "output_type": "execute_result",
          "data": {
            "text/plain": [
              "<re.Match object; span=(0, 5), match='Andri'>"
            ]
          },
          "metadata": {},
          "execution_count": 4
        }
      ]
    },
    {
      "cell_type": "code",
      "source": [
        "#Search Data Using RegEXp\n",
        "re.findall(r'\\b\\w{5}\\b','Andri dan Fatia')"
      ],
      "metadata": {
        "id": "RTlRpeUV398Z",
        "colab": {
          "base_uri": "https://localhost:8080/"
        },
        "outputId": "e4c17347-a168-4a81-bb88-e91dce3bda70"
      },
      "execution_count": 5,
      "outputs": [
        {
          "output_type": "execute_result",
          "data": {
            "text/plain": [
              "['Andri', 'Fatia']"
            ]
          },
          "metadata": {},
          "execution_count": 5
        }
      ]
    },
    {
      "cell_type": "code",
      "source": [
        "#Replace Data Using RegEXP\n",
        "s = \"User's nobile number is 123456890\"\n",
        "\n",
        "s_hide = re.sub('\\d', '*', s)\n",
        "print(s_hide)"
      ],
      "metadata": {
        "id": "-hLAHF5S4eYA",
        "colab": {
          "base_uri": "https://localhost:8080/"
        },
        "outputId": "117d62b8-e8f2-46db-88f7-1fa417bed224"
      },
      "execution_count": 6,
      "outputs": [
        {
          "output_type": "stream",
          "name": "stdout",
          "text": [
            "User's nobile number is *********\n"
          ]
        }
      ]
    },
    {
      "cell_type": "code",
      "source": [
        "#Data Validator Using RegEXP\n",
        "user_name = input('Enter Your Name: ')\n",
        "\n",
        "while not re.match(\"^[A-Za-z]+$\", user_name):\n",
        "  print('Error! Make Sure Only Using Letter In Your Name')\n",
        "  user_name = input('Enter Your Name: ')\n",
        "\n",
        "print(\"Hello!\" + user_name)\n",
        "\n"
      ],
      "metadata": {
        "id": "aELQFUDx5u-a",
        "colab": {
          "base_uri": "https://localhost:8080/"
        },
        "outputId": "9e23492f-206f-4a1e-b2f3-6c6e793b1a69"
      },
      "execution_count": 7,
      "outputs": [
        {
          "output_type": "stream",
          "name": "stdout",
          "text": [
            "Enter Your Name: 1\n",
            "Error! Make Sure Only Using Letter In Your Name\n",
            "Enter Your Name: gaza\n",
            "Hello!gaza\n"
          ]
        }
      ]
    },
    {
      "cell_type": "markdown",
      "source": [
        "## Fuzzy Wuzzy"
      ],
      "metadata": {
        "id": "djTYe0Hq8TND"
      }
    },
    {
      "cell_type": "code",
      "source": [
        "pip install fuzzywuzzy"
      ],
      "metadata": {
        "id": "1AHqjt5Y8W56",
        "colab": {
          "base_uri": "https://localhost:8080/"
        },
        "outputId": "a176db8f-422d-465c-f62a-a78c4d5e2cbf"
      },
      "execution_count": 8,
      "outputs": [
        {
          "output_type": "stream",
          "name": "stdout",
          "text": [
            "Collecting fuzzywuzzy\n",
            "  Downloading fuzzywuzzy-0.18.0-py2.py3-none-any.whl (18 kB)\n",
            "Installing collected packages: fuzzywuzzy\n",
            "Successfully installed fuzzywuzzy-0.18.0\n"
          ]
        }
      ]
    },
    {
      "cell_type": "code",
      "source": [
        "from fuzzywuzzy import fuzz"
      ],
      "metadata": {
        "id": "J5Gn_omj8aXl",
        "colab": {
          "base_uri": "https://localhost:8080/"
        },
        "outputId": "f3cdee38-9a64-4183-fdd4-40171934a0b6"
      },
      "execution_count": 9,
      "outputs": [
        {
          "output_type": "stream",
          "name": "stderr",
          "text": [
            "/usr/local/lib/python3.10/dist-packages/fuzzywuzzy/fuzz.py:11: UserWarning: Using slow pure-python SequenceMatcher. Install python-Levenshtein to remove this warning\n",
            "  warnings.warn('Using slow pure-python SequenceMatcher. Install python-Levenshtein to remove this warning')\n"
          ]
        }
      ]
    },
    {
      "cell_type": "code",
      "source": [
        "text1 = \"Balon saya ada 5 warna\"\n",
        "text2 = \"Balon saya ada 5 warna.\"\n",
        "\n",
        "similarity = fuzz.ratio (text1, text2)\n",
        "print (similarity)"
      ],
      "metadata": {
        "id": "4Rhr4pQT8txC",
        "colab": {
          "base_uri": "https://localhost:8080/"
        },
        "outputId": "bd75a8da-b099-4e12-c7a7-b9ff2ad04e18"
      },
      "execution_count": 10,
      "outputs": [
        {
          "output_type": "stream",
          "name": "stdout",
          "text": [
            "98\n"
          ]
        }
      ]
    },
    {
      "cell_type": "code",
      "source": [
        "similarity = fuzz.partial_ratio (text1, text2)\n",
        "print(similarity)"
      ],
      "metadata": {
        "colab": {
          "base_uri": "https://localhost:8080/"
        },
        "id": "JqII6rwx9ei1",
        "outputId": "02f3ae4b-e5d4-4fe4-81f1-3517837c06e2"
      },
      "execution_count": 11,
      "outputs": [
        {
          "output_type": "stream",
          "name": "stdout",
          "text": [
            "100\n"
          ]
        }
      ]
    },
    {
      "cell_type": "code",
      "source": [
        "str1 = \"My Name Is Gaza\"\n",
        "str2 = \"Gaza Is My Name\"\n",
        "\n",
        "ratio = fuzz.ratio(str1.lower(), str2.lower())\n",
        "print (ratio)"
      ],
      "metadata": {
        "colab": {
          "base_uri": "https://localhost:8080/"
        },
        "id": "O9goMJRS9scN",
        "outputId": "cec904d7-64fa-4fbe-aafd-aaf106320411"
      },
      "execution_count": 12,
      "outputs": [
        {
          "output_type": "stream",
          "name": "stdout",
          "text": [
            "47\n"
          ]
        }
      ]
    },
    {
      "cell_type": "code",
      "source": [
        "str1 = \"My Name Is Gaza\"\n",
        "str2 = \"My Name IS Gaza Rahadian\"\n",
        "\n",
        "ratio = fuzz.partial_ratio(str1.lower(), str2.lower())\n",
        "print (ratio)"
      ],
      "metadata": {
        "colab": {
          "base_uri": "https://localhost:8080/"
        },
        "id": "RoO-rsV0-alq",
        "outputId": "89b6fe3e-1f66-4bfc-bb59-9ee6b6e10548"
      },
      "execution_count": 13,
      "outputs": [
        {
          "output_type": "stream",
          "name": "stdout",
          "text": [
            "100\n"
          ]
        }
      ]
    },
    {
      "cell_type": "code",
      "source": [
        "str1 = \"My Name Is Gaza\"\n",
        "str2 = \"Gaza Is My Name\"\n",
        "similarity_ratio = fuzz.token_sort_ratio(str1, str2)\n",
        "print(similarity_ratio)"
      ],
      "metadata": {
        "colab": {
          "base_uri": "https://localhost:8080/"
        },
        "id": "kKKwmE1e-8vB",
        "outputId": "317608c0-97ac-4c5b-d6f9-82df2c464e42"
      },
      "execution_count": 14,
      "outputs": [
        {
          "output_type": "stream",
          "name": "stdout",
          "text": [
            "100\n"
          ]
        }
      ]
    }
  ]
}